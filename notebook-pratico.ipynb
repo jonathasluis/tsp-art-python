{
  "nbformat": 4,
  "nbformat_minor": 0,
  "metadata": {
    "colab": {
      "name": "Untitled0.ipynb",
      "provenance": []
    },
    "kernelspec": {
      "name": "python3",
      "display_name": "Python 3"
    },
    "language_info": {
      "name": "python"
    }
  },
  "cells": [
    {
      "cell_type": "code",
      "metadata": {
        "id": "MBW2pSbrJmUf"
      },
      "source": [
        "!git clone https://github.com/jonathasluis/tsp-art-python.git"
      ],
      "execution_count": null,
      "outputs": []
    },
    {
      "cell_type": "code",
      "metadata": {
        "id": "OmF-qF15KLpS"
      },
      "source": [
        "!pip install -r '/content/tsp-art-python/repo/requirements.txt'"
      ],
      "execution_count": null,
      "outputs": []
    },
    {
      "cell_type": "code",
      "metadata": {
        "id": "nO0jWMpvLZMq"
      },
      "source": [
        "%cd /content/tsp-art-python/repo/"
      ],
      "execution_count": null,
      "outputs": []
    },
    {
      "cell_type": "code",
      "metadata": {
        "id": "dNOVvGbULesy"
      },
      "source": [
        "!python stippling.py"
      ],
      "execution_count": null,
      "outputs": []
    },
    {
      "cell_type": "code",
      "metadata": {
        "id": "cZI3l2qqMhhT"
      },
      "source": [
        "!python draw-tsp-path.py"
      ],
      "execution_count": null,
      "outputs": []
    }
  ]
}