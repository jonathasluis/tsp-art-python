{
  "nbformat": 4,
  "nbformat_minor": 0,
  "metadata": {
    "colab": {
      "name": "notebook-pratico2.ipynb",
      "provenance": [],
      "collapsed_sections": [
        "UjxmECZnPk6J",
        "PXr1FW33PxyS",
        "qB9hX_CIt9Y_"
      ]
    },
    "kernelspec": {
      "name": "python3",
      "display_name": "Python 3"
    },
    "language_info": {
      "name": "python"
    }
  },
  "cells": [
    {
      "cell_type": "markdown",
      "metadata": {
        "id": "UjxmECZnPk6J"
      },
      "source": [
        "# Configurações Iniciais"
      ]
    },
    {
      "cell_type": "code",
      "metadata": {
        "colab": {
          "base_uri": "https://localhost:8080/"
        },
        "id": "MBW2pSbrJmUf",
        "outputId": "8a831863-16da-4150-e01a-9a7ebcae7c2d"
      },
      "source": [
        "!git clone https://github.com/jonathasluis/tsp-art-python.git"
      ],
      "execution_count": null,
      "outputs": [
        {
          "output_type": "stream",
          "name": "stdout",
          "text": [
            "Cloning into 'tsp-art-python'...\n",
            "remote: Enumerating objects: 237, done.\u001b[K\n",
            "remote: Counting objects: 100% (34/34), done.\u001b[K\n",
            "remote: Compressing objects: 100% (27/27), done.\u001b[K\n",
            "remote: Total 237 (delta 10), reused 0 (delta 0), pack-reused 203\u001b[K\n",
            "Receiving objects: 100% (237/237), 1.72 MiB | 24.41 MiB/s, done.\n",
            "Resolving deltas: 100% (110/110), done.\n"
          ]
        }
      ]
    },
    {
      "cell_type": "code",
      "metadata": {
        "colab": {
          "base_uri": "https://localhost:8080/"
        },
        "id": "OmF-qF15KLpS",
        "outputId": "e0a58d57-8af6-46eb-c61e-f8969ca1ec72"
      },
      "source": [
        "!pip install -r '/content/tsp-art-python/repo/requirements.txt'"
      ],
      "execution_count": null,
      "outputs": [
        {
          "output_type": "stream",
          "name": "stdout",
          "text": [
            "Requirement already satisfied: Pillow in /usr/local/lib/python3.7/dist-packages (from -r /content/tsp-art-python/repo/requirements.txt (line 1)) (7.1.2)\n",
            "Requirement already satisfied: ortools in /usr/local/lib/python3.7/dist-packages (from -r /content/tsp-art-python/repo/requirements.txt (line 2)) (9.1.9490)\n",
            "Requirement already satisfied: tqdm in /usr/local/lib/python3.7/dist-packages (from -r /content/tsp-art-python/repo/requirements.txt (line 3)) (4.62.3)\n",
            "Requirement already satisfied: imageio in /usr/local/lib/python3.7/dist-packages (from -r /content/tsp-art-python/repo/requirements.txt (line 4)) (2.4.1)\n",
            "Requirement already satisfied: scipy in /usr/local/lib/python3.7/dist-packages (from -r /content/tsp-art-python/repo/requirements.txt (line 5)) (1.4.1)\n",
            "Requirement already satisfied: protobuf>=3.18.0 in /usr/local/lib/python3.7/dist-packages (from ortools->-r /content/tsp-art-python/repo/requirements.txt (line 2)) (3.19.1)\n",
            "Requirement already satisfied: absl-py>=0.13 in /usr/local/lib/python3.7/dist-packages (from ortools->-r /content/tsp-art-python/repo/requirements.txt (line 2)) (1.0.0)\n",
            "Requirement already satisfied: six in /usr/local/lib/python3.7/dist-packages (from absl-py>=0.13->ortools->-r /content/tsp-art-python/repo/requirements.txt (line 2)) (1.15.0)\n",
            "Requirement already satisfied: numpy in /usr/local/lib/python3.7/dist-packages (from imageio->-r /content/tsp-art-python/repo/requirements.txt (line 4)) (1.19.5)\n"
          ]
        }
      ]
    },
    {
      "cell_type": "code",
      "metadata": {
        "colab": {
          "base_uri": "https://localhost:8080/"
        },
        "id": "nO0jWMpvLZMq",
        "outputId": "b2aa61cc-6a6f-4209-cc23-beb4307f0d35"
      },
      "source": [
        "%cd /content/tsp-art-python/repo/"
      ],
      "execution_count": null,
      "outputs": [
        {
          "output_type": "stream",
          "name": "stdout",
          "text": [
            "/content/tsp-art-python/repo\n"
          ]
        }
      ]
    },
    {
      "cell_type": "markdown",
      "metadata": {
        "id": "PXr1FW33PxyS"
      },
      "source": [
        "# Implementação"
      ]
    },
    {
      "cell_type": "markdown",
      "metadata": {
        "id": "G6hHwJ9usg2G"
      },
      "source": [
        "Por praticidade, o numero de pontos no qual será feita a arte é passado como argumento após o nome do arquivo."
      ]
    },
    {
      "cell_type": "code",
      "metadata": {
        "colab": {
          "base_uri": "https://localhost:8080/"
        },
        "id": "dNOVvGbULesy",
        "outputId": "27ead1ab-bdb5-4d41-c450-b0163058ddc9"
      },
      "source": [
        "!python stippling.py 1024"
      ],
      "execution_count": null,
      "outputs": [
        {
          "output_type": "stream",
          "name": "stdout",
          "text": [
            "Number of points: 3072\n",
            "Number of iterations: 25\n",
            "PNG: images/logo-3072-stipple.png \n",
            "TSP: images/logo-3072-stipple.tsp \n",
            "100% 25/25 [01:11<00:00,  2.87s/it]\n"
          ]
        }
      ]
    },
    {
      "cell_type": "markdown",
      "metadata": {
        "id": "JAw13xCXsxy-"
      },
      "source": [
        "Além do número de pontos, passa-se a opção de execução\n",
        "<ol>\n",
        "  <li>Execução com o código original;</li>\n",
        "  <li>Execução utilizando o algoritmo do vizinho mais próximo;</li>\n",
        "  <li>Execução com o algoritmo da Inserção mais barata modificado</li>"
      ]
    },
    {
      "cell_type": "code",
      "metadata": {
        "colab": {
          "base_uri": "https://localhost:8080/"
        },
        "id": "cZI3l2qqMhhT",
        "outputId": "b471b31d-98b9-4fbb-b33a-15d88c66dd82"
      },
      "source": [
        "!python draw-tsp-path.py 1024 1"
      ],
      "execution_count": null,
      "outputs": [
        {
          "output_type": "stream",
          "name": "stdout",
          "text": [
            "Step 1/5: Initialising variables\n",
            "Step 2/5: Computing distance matrix\n",
            "Step 3/5: Setting an initial solution\n",
            "Step 4/5: Solving\n",
            "Step 5/5: Drawing the solution\n",
            "TSP solution has been drawn and can be viewed at images/logo-3072-tsp.png\n",
            "79258\n"
          ]
        }
      ]
    }
  ]
}